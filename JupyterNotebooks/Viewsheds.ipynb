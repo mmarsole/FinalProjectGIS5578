{
 "cells": [
  {
   "cell_type": "markdown",
   "metadata": {},
   "source": [
    "## First Step: create viewsheds based on 6 image locations\n",
    "1. Load Data\n",
    "    * DEMS\n",
    "    * GPS csv file\n",
    "2. Convert csv file to coordinates\n",
    "3. Convert GPS coordinates (a feature layer) to shp\n",
    "4. Create individual shps for each image point\n",
    "    * Extract relevant values for names (names for new shapefiles)\n",
    "    * Create 6 copies of the GOS shp (conatining all data) and delete all rows expt 1 point (then save shp)\n",
    "5. Use Viewshed() to calculate viewshed rasters for each image\n",
    "\n",
    "\n",
    "<i>Please Note this Notebook was completed within an ArcGIS Pro environment with access to Arcpy</i>"
   ]
  },
  {
   "cell_type": "code",
   "execution_count": 1,
   "metadata": {},
   "outputs": [],
   "source": [
    "# Import system modules\n",
    "import arcpy\n",
    "from arcpy import env\n",
    "from arcpy.sa import *\n",
    "from pathlib import Path"
   ]
  },
  {
   "cell_type": "code",
   "execution_count": 5,
   "metadata": {},
   "outputs": [],
   "source": [
    "########################################## Creating Variables for Project ##################################################\n",
    "# adjust as to accurate location of files\n",
    "GPS_csv_filepath = r\"C:\\Users\\runac\\Downloads\\Fall_2022\\Programming\\project_idea\\JupNotebooks\\GPS_metadata.csv\"\n",
    "DEM_filepath = r\"D:\\Fall_2022\\Programming\\Project\\Data\\30DEM\\USGS_1_n49w114_20210607.tif\"\n",
    "output_filepath = \"D:\\Fall_2022\\Programming\\Project\\Viewshed_MT_clean\\Viewshed_MT_clean.gdb\"\n",
    "Num_image_Coords = 6"
   ]
  },
  {
   "cell_type": "code",
   "execution_count": 6,
   "metadata": {},
   "outputs": [],
   "source": [
    "def Creating_file_names(path, filename_str, length):\n",
    "    \"\"\"\n",
    "    Provide the path where you'd like to save each file, and the naming string used to name resulting files\n",
    "    Filenmae_str needs to be formatted as \"\\<filename>\"\n",
    "    Returns a sequential numbered list of filename paths for the provided length (length = number of image coordinates being used to create viewsheds)\n",
    "    \"\"\"\n",
    "    path_ = path\n",
    "    list_ = []\n",
    "    for number in range(length): \n",
    "        filename = filename_str + str(number + 1)\n",
    "        list_.append(path_ + filename)\n",
    "    \n",
    "    return list_"
   ]
  },
  {
   "cell_type": "code",
   "execution_count": 24,
   "metadata": {},
   "outputs": [],
   "source": [
    "#################### Connect image.shp point to each of the points on circle perimeter creating a new polyline shapefile #########\n",
    "##create a def to be called later that extract the coordinates for each image.shp\n",
    "def image_coords(path_to_image):\n",
    "    '''\n",
    "    Given the shapefile path you can extract the points coorndinates. \n",
    "    Returns a arcpy Point\n",
    "    '''\n",
    "    with arcpy.da.SearchCursor(path_to_image, ['*']) as cursor:\n",
    "        for row in cursor:\n",
    "            #assumption, shp is 1 point, thus only returning 1 point value, if shp with many pts provided will return last pt\n",
    "            cp = arcpy.Point(row[1][0], row[1][1])\n",
    "    return cp\n",
    "\n",
    "def creating_polylines(filepath, anchor_point, connection_points): \n",
    "    \"\"\"\n",
    "    creates lines from each coordinate (image<#>.shp) to the points plotted on the minimum bounding circle \n",
    "    created around the viewshed. \n",
    "    filepath: insert desired name for each polyline file created with entire filepath (to .gdb)\n",
    "    anchor_point: filepath to shapefile for each respective image's coordinates\n",
    "    connection_points: filepath to the points created on the minimum bounding circle\n",
    "    Returns a new shapefile made of polylines\n",
    "    \"\"\"\n",
    "    # ##creating new file name and shapefile for polylines\n",
    "    new_fc = filepath\n",
    "    name = filepath[(len(output_filepath)+1):len(filepath)]\n",
    "    #matching the spatial refernce of the DEM file\n",
    "    sr = arcpy.SpatialReference(4269) \n",
    "    arcpy.management.CreateFeatureclass(output_filepath, name, 'POLYLINE', spatial_reference = sr)\n",
    "    #ADDing a column that designates degree (I believe arc designates N as 0 and rotates clockwise)\n",
    "    arcpy.management.AddField(name, \"Degree\", \"DOUBLE\", None, None, None, \"Degree\", \"NULLABLE\", \"NON_REQUIRED\", '')\n",
    "\n",
    "    percentage = 0\n",
    "    \n",
    "    ##Creating a line for each point on perimeter to corresponding image\n",
    "    #looping through perimeter points\n",
    "    with arcpy.da.SearchCursor(connection_points, ['*']) as cursor:\n",
    "        for row in cursor:\n",
    "            list_points = arcpy.Array([])\n",
    "            #calulating the degree sequentially clockwise (adjust percentage if GeneratePointsAlongLines() uses differnt percentage)\n",
    "            degree = (percentage/100)*360\n",
    "            \n",
    "            #declaring start (image location) & end (pts on circle) points for each line\n",
    "            cp1 = image_coords(anchor_point) #pulling the same image point\n",
    "            cp2 = arcpy.Point(row[1][0], row[1][1])\n",
    "            list_points.append(cp2)\n",
    "            list_points.append(cp1)\n",
    "            \n",
    "            #assignng spatial reference (should check to make sure its accurate)\n",
    "            spatial_reference = arcpy.SpatialReference(4326)\n",
    "            polyline = arcpy.Polyline(list_points, spatial_reference)\n",
    "           \n",
    "            #inserting new line to new feature class\n",
    "            icur = arcpy.da.InsertCursor(new_fc, [\"SHAPE@\", \"Degree\"])\n",
    "            icur.insertRow([polyline, degree])\n",
    "            del icur\n",
    "            \n",
    "            #updating percentage for each line\n",
    "            percentage += 0.2\n"
   ]
  },
  {
   "cell_type": "code",
   "execution_count": 16,
   "metadata": {},
   "outputs": [
    {
     "name": "stdout",
     "output_type": "stream",
     "text": [
      "image1.HEIC\n",
      "image2.HEIC\n",
      "image3.HEIC\n",
      "image4.JPG\n",
      "image5.JPG\n",
      "image8.JPG\n"
     ]
    }
   ],
   "source": [
    "########################################## Loading DEM and GPS data ###########################################################\n",
    "#(steps 1-4)\n",
    "##relevant rasters needed for the viewshed...\n",
    "DEM1 = Raster(DEM_filepath)\n",
    "\n",
    "#convert the csv table to points (run once)\n",
    "arcpy.management.XYTableToPoint(GPS_csv_filepath, \n",
    "                                r\"GPS_metadata_XYTableToPoint\", \n",
    "                                \"decimal_Long\", \n",
    "                                \"decimal_Lat\",\n",
    "                                \"GPSAltitude\", \n",
    "                                'GEOGCS[\"GCS_WGS_1984\",DATUM[\"D_WGS_1984\",SPHEROID[\"WGS_1984\",6378137.0,298.257223563]],PRIMEM[\"Greenwich\",0.0],UNIT[\"Degree\",0.0174532925199433]],VERTCS[\"WGS_1984\",DATUM[\"D_WGS_1984\",SPHEROID[\"WGS_1984\",6378137.0,298.257223563]],PARAMETER[\"Vertical_Shift\",0.0],PARAMETER[\"Direction\",1.0],UNIT[\"Meter\",1.0]];-400 -400 1000000000;-100000 10000;-100000 10000;8.98315284119521E-09;0.001;0.001;IsHighPrecision')\n",
    "###converting GPS data to a shp\n",
    "arcpy.conversion.FeatureClassToShapefile(\"GPS_metadata_XYTableToPoint\", output_filepath)\n",
    "\n",
    "##creating a list that stores the name of each image file (used later to create individual shp for each point)\n",
    "List_shp = []\n",
    "List_names = []\n",
    "with arcpy.da.UpdateCursor(\"GPS_metadata_XYTableToPoint\", ['Field1']) as cursor:\n",
    "    for row in cursor:\n",
    "        print(row[0])\n",
    "        name = row[0].split('.')\n",
    "        List_shp.append(f'{name[0]}.shp')\n",
    "        List_names.append(row[0])\n",
    "        \n",
    "##copying featureclass and converting to individual shpfiles for each point\n",
    "data = output_filepath + \"\\GPS_metadata_XYTableToPoint\"\n",
    "count = 0\n",
    "for name in List_shp:\n",
    "    #copying original file \n",
    "    arcpy.management.CopyFeatures(data, name)\n",
    "    #creating shpfiles with 1 point by deleting all features excepts for 1 row\n",
    "    with arcpy.da.UpdateCursor(name, ['Field1','decimal_La','decimal_Lo', 'GPSAltit_1']) as cursor:\n",
    "        for row in cursor:\n",
    "            if row[0] != List_names[count]:\n",
    "                cursor.deleteRow()\n",
    "    count += 1"
   ]
  },
  {
   "cell_type": "code",
   "execution_count": 17,
   "metadata": {},
   "outputs": [
    {
     "name": "stdout",
     "output_type": "stream",
     "text": [
      "saving outvwdshd1\n",
      "saving outvwdshd2\n",
      "saving outvwdshd3\n",
      "saving outvwdshd4\n",
      "saving outvwdshd5\n",
      "saving outvwdshd6\n"
     ]
    }
   ],
   "source": [
    "############### Creating a list of names to use for viewsheds, based on the number of images processed ###################\n",
    "# (step 5)\n",
    "###declaring lists for names and creating files for Viewshed Outputs\n",
    "List_Raster_V_names = Creating_file_names(output_filepath, \"\\outvwdshd\", Num_image_Coords)\n",
    "List_outnames = Creating_file_names(output_filepath, \"\\outViewshed\", Num_image_Coords)\n",
    "\n",
    "###################################################### VIEWSHED ############################################################\n",
    "for shp, out_file, vwshd in zip(List_shp, List_outnames, List_Raster_V_names):\n",
    "    # Execute Viewshed (DON'T NEED 'List_Raster_V_names')\n",
    "    outViewshed = Viewshed(DEM1, shp, 1, \"FLAT_EARTH\", 0.13)\n",
    "    # Save the output \n",
    "    outViewshed.save(out_file)\n",
    "    name = vwshd[(len(output_filepath)+1):len(vwshd)]\n",
    "    print(\"saving\", name)\n"
   ]
  },
  {
   "cell_type": "markdown",
   "metadata": {},
   "source": [
    "## Next big step: extracting elevation values (maxes) in a 360 view around image points. \n",
    "\n",
    "1. Viewshed raster to Polygon\n",
    "2. Create a minimum bounding circle on vectorized viewshed raster\n",
    "3. Generate points on perimeter of circle (min bounding region)\n",
    "4. Connect image.shp point to each of the points on circle perimeter creating a new polyline shapefile.\n",
    "5. Use vectorized viewshed raster to mask DEM (resulting in a viewshed shaped DEM with real elevation values)\n",
    "6. Extract the cell values from the clipped viewshed DEM with the Polylines. (HERE CURRENTLY!!)\n",
    "    * For each line store the largest DEM value and save values in a table\n",
    "7. Plot table"
   ]
  },
  {
   "cell_type": "code",
   "execution_count": 18,
   "metadata": {},
   "outputs": [
    {
     "name": "stdout",
     "output_type": "stream",
     "text": [
      "Saving & Updating: D:\\Fall_2022\\Programming\\Project\\Viewshed_MT_clean\\Viewshed_MT_clean.gdb\\Poly_outView1\n",
      "Saving & Updating: D:\\Fall_2022\\Programming\\Project\\Viewshed_MT_clean\\Viewshed_MT_clean.gdb\\Poly_outView2\n",
      "Saving & Updating: D:\\Fall_2022\\Programming\\Project\\Viewshed_MT_clean\\Viewshed_MT_clean.gdb\\Poly_outView3\n",
      "Saving & Updating: D:\\Fall_2022\\Programming\\Project\\Viewshed_MT_clean\\Viewshed_MT_clean.gdb\\Poly_outView4\n",
      "Saving & Updating: D:\\Fall_2022\\Programming\\Project\\Viewshed_MT_clean\\Viewshed_MT_clean.gdb\\Poly_outView5\n",
      "Saving & Updating: D:\\Fall_2022\\Programming\\Project\\Viewshed_MT_clean\\Viewshed_MT_clean.gdb\\Poly_outView6\n"
     ]
    }
   ],
   "source": [
    "################################################## Viewshed raster to Polygon ########################################\n",
    "##vectorizing resulting viewshed rasters\n",
    "\n",
    "#list of names of the viewshed tifs\n",
    "vwshd_tifs = Creating_file_names(output_filepath, \"\\outViewshed\", Num_image_Coords)\n",
    "#list of names to be used for vectorized viewsheds\n",
    "ras_to_polys = Creating_file_names(output_filepath, \"\\Poly_outView\", Num_image_Coords)\n",
    "\n",
    "###### Looping over \"ras_to_polys\" to convert ALL viewsheds to polygons\n",
    "for tif, poly in zip(vwshd_tifs, ras_to_polys):\n",
    "    #isolating names of tif file from rest of path\n",
    "    name = tif[(len(output_filepath)+ 1):len(tif)]\n",
    "    #converting rasters to polygons\n",
    "    arcpy.conversion.RasterToPolygon(name, \n",
    "                                     poly, \n",
    "                                     \"SIMPLIFY\", \n",
    "                                     \"Value\", \n",
    "                                     \"SINGLE_OUTER_PART\", \n",
    "                                     None)\n",
    "\n",
    "# #deleting polygons with gridcode = 0 (represents areas viewer cannot see)\n",
    "for v in ras_to_polys: \n",
    "    with arcpy.da.UpdateCursor(v, ['*']) as cursor:\n",
    "        for row in cursor:\n",
    "            if row[3] == 0:\n",
    "                cursor.deleteRow()\n",
    "    print(\"Saving & Updating:\", v[(len(output_filepath)+1):len(v)])"
   ]
  },
  {
   "cell_type": "code",
   "execution_count": 19,
   "metadata": {},
   "outputs": [
    {
     "name": "stdout",
     "output_type": "stream",
     "text": [
      "Saving \\B_outView1\n",
      "Saving \\B_outView2\n",
      "Saving \\B_outView3\n",
      "Saving \\B_outView4\n",
      "Saving \\B_outView5\n",
      "Saving \\B_outView6\n"
     ]
    }
   ],
   "source": [
    "########################### create a min bounding circle on vectorized viewshed raster #######################\n",
    "# creating list of names for minimum bounding circles\n",
    "min_bound_names = Creating_file_names(output_filepath, \"\\B_outView\", Num_image_Coords)\n",
    "\n",
    "# creating minimum bounding circle around viewshds\n",
    "for poly_vwshd, min_bound in zip(ras_to_polys, min_bound_names):\n",
    "    arcpy.management.MinimumBoundingGeometry(poly_vwshd, \n",
    "                                         min_bound, \n",
    "                                         \"CIRCLE\", \n",
    "                                         \"ALL\")\n",
    "    print(\"Saving\", min_bound[(len(output_filepath)+1):len(min_bound)])"
   ]
  },
  {
   "cell_type": "code",
   "execution_count": 20,
   "metadata": {},
   "outputs": [
    {
     "name": "stdout",
     "output_type": "stream",
     "text": [
      "Saving Pts_View1\n",
      "Saving Pts_View2\n",
      "Saving Pts_View3\n",
      "Saving Pts_View4\n",
      "Saving Pts_View5\n",
      "Saving Pts_View6\n"
     ]
    }
   ],
   "source": [
    "############################## Generate points on perimeter of circle (min bounding region) ######################\n",
    "# creating list of names for points on minimum bouding circles\n",
    "pts_names = Creating_file_names(output_filepath, \"\\Pts_View\", Num_image_Coords)\n",
    "\n",
    "# creating pts on minimum bounding circle\n",
    "for circle, pts in zip(min_bound_names, pts_names):\n",
    "    arcpy.management.GeneratePointsAlongLines(circle, \n",
    "                                          pts, \n",
    "                                          \"PERCENTAGE\",  \n",
    "                                          Percentage=0.2, \n",
    "                                          Include_End_Points='END_POINTS')\n",
    "    \n",
    "    print(\"Saving\", pts[(len(output_filepath)+1):len(pts)])\n",
    "\n",
    "    ##takes apporx 2-3 mins to execute"
   ]
  },
  {
   "cell_type": "code",
   "execution_count": 25,
   "metadata": {},
   "outputs": [
    {
     "name": "stdout",
     "output_type": "stream",
     "text": [
      "Creating: View_lines1\n",
      "Creating: View_lines2\n",
      "Creating: View_lines3\n",
      "Creating: View_lines4\n",
      "Creating: View_lines5\n",
      "Creating: View_lines6\n"
     ]
    }
   ],
   "source": [
    "#################### Connect image.shp point to each of the points on circle perimeter creating a new polyline shapefile ##########\n",
    "\n",
    "# creating paths and names for new polyline files \n",
    "polyline_names = Creating_file_names(output_filepath, \"\\View_lines\", Num_image_Coords)\n",
    "\n",
    "# polyline_names : recently declared above\n",
    "# pts_names : calling this already made list of minimum bounding circle pts\n",
    "# List_shp : calling this already made list of image locations \n",
    "\n",
    "#Running the function that'll create polylines for each image and corresponding viewshed points\n",
    "for polyline, image, pts, in zip(polyline_names, List_shp, pts_names):\n",
    "    print(\"Creating:\", polyline[(len(output_filepath) + 1):len(polyline)])\n",
    "    creating_polylines(polyline, image, pts)\n",
    "    \n",
    "#takes 1.5 mins to make lines when p = 0.2"
   ]
  },
  {
   "cell_type": "code",
   "execution_count": 28,
   "metadata": {},
   "outputs": [
    {
     "name": "stdout",
     "output_type": "stream",
     "text": [
      "Clipping: Clipped_DEM_Vwshd1\n",
      "Clipping: Clipped_DEM_Vwshd2\n",
      "Clipping: Clipped_DEM_Vwshd3\n",
      "Clipping: Clipped_DEM_Vwshd4\n",
      "Clipping: Clipped_DEM_Vwshd5\n",
      "Clipping: Clipped_DEM_Vwshd6\n"
     ]
    }
   ],
   "source": [
    "########################################## Use vectorized viewshed raster to mask DEM ###################################\n",
    "# creating paths and names for new clipped DEM of viewsheds \n",
    "c_DEM_names = Creating_file_names(output_filepath, \"\\Clipped_DEM_Vwshd\", Num_image_Coords)\n",
    "\n",
    "#declaring the spatial extent of the DEM1 (used to help clip the DEM to the viewshed output)\n",
    "extent = DEM1.extent\n",
    "xmin = extent.XMin\n",
    "ymin = extent.YMin\n",
    "xmax = extent.XMax\n",
    "ymax = extent.YMax\n",
    "spatial_extent = str(xmin) + \" \" + str(ymin) +  \" \" + str(xmax) +  \" \" +str(ymax)\n",
    "\n",
    "#creating a clipped extent of DEM for each image\n",
    "for vwshd, clip_dem in zip(ras_to_polys, c_DEM_names):\n",
    "    print(\"Clipping:\", clip_dem[(len(output_filepath)+1):len(clip_dem)])\n",
    "    poly_vwshd = vwshd[(len(output_filepath)+1):len(vwshd)]\n",
    "    arcpy.management.Clip(DEM1, \n",
    "                          spatial_extent,\n",
    "                          clip_dem, \n",
    "                          poly_vwshd, \n",
    "                          \"-999999\", \n",
    "                          \"ClippingGeometry\", \n",
    "                          \"NO_MAINTAIN_EXTENT\")"
   ]
  },
  {
   "cell_type": "code",
   "execution_count": 32,
   "metadata": {},
   "outputs": [
    {
     "name": "stdout",
     "output_type": "stream",
     "text": [
      "Saving Int_clip_DEM_Vwshd1\n",
      "Saving Int_clip_DEM_Vwshd2\n",
      "Saving Int_clip_DEM_Vwshd3\n",
      "Saving Int_clip_DEM_Vwshd4\n",
      "Saving Int_clip_DEM_Vwshd5\n",
      "Saving Int_clip_DEM_Vwshd6\n",
      "Saving Max Elevation value\n",
      "Saving Max Elevation value\n",
      "Saving Max Elevation value\n",
      "Saving Max Elevation value\n",
      "Saving Max Elevation value\n",
      "Saving Max Elevation value\n"
     ]
    }
   ],
   "source": [
    "########################################## Extract the Elevation values from the clipped viewshed DEM with the Polylines ############\n",
    "# creating paths and names for new INTIGER-(datatype) clipped DEM of viewsheds \n",
    "int_DEM_names = Creating_file_names(output_filepath, \"\\Int_clip_DEM_Vwshd\", Num_image_Coords)\n",
    "poly_pixels_vw = Creating_file_names(output_filepath, \"\\Poly_Int_Clip_DEM\", Num_image_Coords)\n",
    "max_elevation = Creating_file_names(output_filepath, \"\\lines_max_elev\", Num_image_Coords)\n",
    "\n",
    "##convert elevation datatype from decimal to integer (looses some data)\n",
    "for clip_dem, int_dem in zip(c_DEM_names, int_DEM_names):\n",
    "    print(\"Saving\", int_dem[(len(output_filepath)+1):len(int_dem)])\n",
    "    out_raster = arcpy.ia.Int(clip_dem[(len(output_filepath)+1):len(clip_dem)]); out_raster.save(int_dem)\n",
    "\n",
    "##convert raster to polygons (s.t. each raster pixel is a polygon)\n",
    "for int_dem, poly_dem in zip(int_DEM_names, poly_pixels_vw):\n",
    "    arcpy.conversion.RasterToPolygon(int_dem[(len(output_filepath)+1):len(int_dem)], \n",
    "                                     poly_dem, \n",
    "                                     \"NO_SIMPLIFY\", \n",
    "                                     \"Value\", \n",
    "                                     \"SINGLE_OUTER_PART\", \n",
    "                                     None)\n",
    "\n",
    "##spatial join between pixels (as polygons) and polylines : whilst saving only max elevations for each polyline\n",
    "##this join returns the max 'gridcode' ('elevation value') that intersects with a line!!\n",
    "##need to figure out how to apply 'field mapping' for each vectorized-pixel viewshed..?\n",
    "for lines, poly_dem, elev in zip(polyline_names, poly_pixels_vw, max_elevation):\n",
    "    arcpy.analysis.SpatialJoin(lines[(len(output_filepath)+1):len(lines)], \n",
    "                               poly_dem[(len(output_filepath)+1):len(poly_dem)], \n",
    "                               elev, \n",
    "                               \"JOIN_ONE_TO_ONE\", \n",
    "                               \"KEEP_ALL\", \n",
    "                               'Degree \"Degree\" true true false 19 Double 0 0,First,#,view1_lines_b,Degree,-1,-1;gridcode \"gridcode\" true true false 4 Long 0 0,Max,#,Poly_Int_Clip_DEM1,gridcode,-1,-1', \n",
    "                               \"INTERSECT\", \n",
    "                               None, \n",
    "                               '')\n",
    "    print(\"Saving Max Elevation value\")"
   ]
  },
  {
   "cell_type": "code",
   "execution_count": 42,
   "metadata": {},
   "outputs": [
    {
     "name": "stdout",
     "output_type": "stream",
     "text": [
      "Saving: lines_max_elev1.cs\n",
      "Saving: lines_max_elev2.cs\n",
      "Saving: lines_max_elev3.cs\n",
      "Saving: lines_max_elev4.cs\n",
      "Saving: lines_max_elev5.cs\n",
      "Saving: lines_max_elev6.cs\n"
     ]
    }
   ],
   "source": [
    "##exported the shp as a csv to view in LATIS\n",
    "out_path = r\"D:\\Fall_2022\\Programming\\Project\\Viewshed_MT_clean\"\n",
    "csv_names = Creating_file_names(out_path, \"\\lines_max_elev\", Num_image_Coords)\n",
    "\n",
    "for elev, csv in zip(max_elevation, csv_names):\n",
    "    name = csv + \".csv\"\n",
    "    print(\"Saving:\", name[(len(out_path)+1):(len(csv)+4)])\n",
    "    arcpy.conversion.ExportTable(elev[(len(output_filepath)+1):len(elev)], \n",
    "                                 name, \n",
    "                                 '', \n",
    "                                 \"NOT_USE_ALIAS\", \n",
    "                                 'Join_Count \"Join_Count\" true true false 4 Long 0 0,First,#,view1_lines_b_SpatialJoin2,Join_Count,-1,-1;TARGET_FID \"TARGET_FID\" true true false 4 Long 0 0,First,#,view1_lines_b_SpatialJoin2,TARGET_FID,-1,-1;Degree \"Degree\" true true false 8 Double 0 0,First,#,view1_lines_b_SpatialJoin2,Degree,-1,-1;gridcode \"gridcode\" true true false 4 Long 0 0,First,#,view1_lines_b_SpatialJoin2,gridcode,-1,-1', \n",
    "                                 None)"
   ]
  },
  {
   "cell_type": "markdown",
   "metadata": {},
   "source": [
    "##### After successfully extrating the Max elevation values for each polyline, I need to measure distance from observer/image pt to location of Max elevation pixel. I then need to create new values where max elevation is divided by distance (to accurately depict a mountain ridgeline w.r.t. distance) \n",
    "\n"
   ]
  },
  {
   "cell_type": "code",
   "execution_count": null,
   "metadata": {},
   "outputs": [],
   "source": [
    "################################### Extract Distances from image pt to each max elevation for each line ###############################\n",
    "## An additional Spatal Join where pixels (as polygons) Ar kept only if they intersect each polyline AND have the MAX elevation...(still thinking this through)"
   ]
  },
  {
   "cell_type": "markdown",
   "metadata": {},
   "source": [
    "### Scratch Work"
   ]
  },
  {
   "cell_type": "code",
   "execution_count": null,
   "metadata": {},
   "outputs": [],
   "source": []
  }
 ],
 "metadata": {
  "kernelspec": {
   "display_name": "ArcGISPro",
   "language": "Python",
   "name": "python3"
  },
  "language_info": {
   "file_extension": ".py",
   "name": "python",
   "version": "3"
  }
 },
 "nbformat": 4,
 "nbformat_minor": 2
}

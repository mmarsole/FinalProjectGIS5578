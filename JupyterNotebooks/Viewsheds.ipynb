{
 "cells": [
  {
   "cell_type": "markdown",
   "metadata": {},
   "source": [
    "## First Step: create viewsheds based on 6 image locations\n",
    "1. Load Data\n",
    "    * DEMS\n",
    "    * GPS csv file\n",
    "2. Convert csv file to coordinates\n",
    "3. Convert GPS coordinates (a feature layer) to shp\n",
    "4. Create individual shps for each image point\n",
    "    * Extract relevant values for names (names for new shapefiles)\n",
    "    * Create 6 copies of the GOS shp (conatining all data) and delete all rows expt 1 point (then save shp)\n",
    "5. Use Viewshed() to calculate viewshed rasters for each image\n",
    "\n",
    "\n",
    "<i>Please Note this Notebook was completed within an ArcGIS Pro environment with access to Arcpy</i>"
   ]
  },
  {
   "cell_type": "code",
   "execution_count": 2,
   "metadata": {},
   "outputs": [],
   "source": [
    "# Import system modules\n",
    "import arcpy\n",
    "from arcpy import env\n",
    "from arcpy.sa import *\n",
    "from pathlib import Path"
   ]
  },
  {
   "cell_type": "code",
   "execution_count": 3,
   "metadata": {},
   "outputs": [
    {
     "name": "stdout",
     "output_type": "stream",
     "text": [
      "image1.HEIC\n",
      "image2.HEIC\n",
      "image3.HEIC\n",
      "image4.JPG\n",
      "image5.JPG\n",
      "image8.JPG\n"
     ]
    }
   ],
   "source": [
    "########################################## Loading DEM and GPS data ###########################################################\n",
    "#(steps 1-4)\n",
    "##relevant rasters needed for the viewshed...\n",
    "DEM1 = Raster(\"D:/Fall_2022/Programming/Project/Data/30DEM/USGS_1_n49w114_20210607.tif\")\n",
    "\n",
    "#convert the csv table to points (run once)\n",
    "arcpy.management.XYTableToPoint(r\"C:\\Users\\runac\\Downloads\\Fall_2022\\Programming\\project_idea\\JupNotebooks\\GPS_metadata.csv\", \n",
    "                                r\"GPS_metadata_XYTableToPoint\", \n",
    "                                \"decimal_Long\", \n",
    "                                \"decimal_Lat\",\n",
    "                                \"GPSAltitude\", \n",
    "                                'GEOGCS[\"GCS_WGS_1984\",DATUM[\"D_WGS_1984\",SPHEROID[\"WGS_1984\",6378137.0,298.257223563]],PRIMEM[\"Greenwich\",0.0],UNIT[\"Degree\",0.0174532925199433]],VERTCS[\"WGS_1984\",DATUM[\"D_WGS_1984\",SPHEROID[\"WGS_1984\",6378137.0,298.257223563]],PARAMETER[\"Vertical_Shift\",0.0],PARAMETER[\"Direction\",1.0],UNIT[\"Meter\",1.0]];-400 -400 1000000000;-100000 10000;-100000 10000;8.98315284119521E-09;0.001;0.001;IsHighPrecision')\n",
    "###converting GPS data to a shp\n",
    "arcpy.conversion.FeatureClassToShapefile(\"GPS_metadata_XYTableToPoint\",\"D:\\Fall_2022\\Programming\\Project\\Viewshed_MT_clean\\exported_Data\")\n",
    "\n",
    "##creating a list that stores the name of each image file (used later to create individual shp for each point)\n",
    "List_shp = []\n",
    "List_names = []\n",
    "with arcpy.da.UpdateCursor(\"GPS_metadata_XYTableToPoint\", ['Field1']) as cursor:\n",
    "    for row in cursor:\n",
    "        print(row[0])\n",
    "        name = row[0].split('.')\n",
    "        List_shp.append(f'{name[0]}.shp')\n",
    "        List_names.append(row[0])\n",
    "        \n",
    "##copying featureclass and converting to individual shpfiles for each point\n",
    "data = 'D:\\Fall_2022\\Programming\\Project\\Viewshed_MT_clean\\exported_Data\\GPS_metadata_XYTableToPoint.shp'\n",
    "count = 0\n",
    "for name in List_shp:\n",
    "    #copying original file \n",
    "    arcpy.management.CopyFeatures(data, name)\n",
    "    #creating shpfiles with 1 point by deleting all features excepts for 1 row\n",
    "    with arcpy.da.UpdateCursor(name, ['Field1','decimal_La','decimal_Lo', 'GPSAltit_1']) as cursor:\n",
    "        for row in cursor:\n",
    "            if row[0] != List_names[count]:\n",
    "                cursor.deleteRow()\n",
    "    count += 1"
   ]
  },
  {
   "cell_type": "code",
   "execution_count": 15,
   "metadata": {},
   "outputs": [],
   "source": [
    "####################### Check to see if files are made ########################\n",
    "\n",
    "                                    ########## DELETE LATER ###############\n",
    "# iterate over specific files in 'exported_Data' to create and convert files with \"raster_conversion()\" \n",
    "files = Path('D:\\Fall_2022\\Programming\\Project\\Viewshed_MT_clean\\exported_Data').glob('outvwshd0[1-9]')\n",
    "for file in files:\n",
    "    print(file)\n",
    "    \n",
    "### so the files are there, just can't find them with glob...."
   ]
  },
  {
   "cell_type": "code",
   "execution_count": 33,
   "metadata": {},
   "outputs": [
    {
     "name": "stdout",
     "output_type": "stream",
     "text": [
      "['\\\\outvwdshd00', '\\\\outvwdshd01', '\\\\outvwdshd02', '\\\\outvwdshd03', '\\\\outvwdshd04', '\\\\outvwdshd05']\n",
      "['\\\\outViewshed00', '\\\\outViewshed01', '\\\\outViewshed02', '\\\\outViewshed03', '\\\\outViewshed04', '\\\\outViewshed05']\n"
     ]
    }
   ],
   "source": [
    "############### Creating a list of names to use for viewsheds, based on the number of images processed ###################\n",
    "#(step 5)\n",
    "List_Raster_V_names = []\n",
    "List_outnames = []\n",
    "number = 0\n",
    "for files in range(len(List_shp)):\n",
    "    if len(str(number)) < 2:\n",
    "        str_num = \"0\" + str(number)\n",
    "    else: \n",
    "        str_num = str(number)\n",
    "    Name = \"\\outvwdshd\" + str_num\n",
    "    Variable = \"\\outViewshed\" + str_num\n",
    "    List_outnames.append(Name)\n",
    "    List_Raster_V_names.append(Variable)\n",
    "    number += 1\n",
    "\n",
    "###################################################### VIEWSHED ############################################################\n",
    "for shp, out_file, vwshd in zip(List_shp, List_outnames, List_Raster_V_names):\n",
    "    # Execute Viewshed (DON'T NEED 'List_Raster_V_names')\n",
    "    outViewshed = Viewshed(DEM1, shp, 1, \"FLAT_EARTH\", 0.13)\n",
    "    # Save the output \n",
    "    path = \"exported_Data\" + out_file\n",
    "    outViewshed.save(path)\n",
    "    name = vwshd[1:len(vwshd)]\n",
    "    print(\"saving\", name)\n",
    "\n",
    "    #exporting viewsheds as tifs NOT necessary \n",
    "    #need to make sure folders (PATH) is valid -- Code not excuting \n",
    "#     raster_out_path =  \"D:\\Fall_2022\\Programming\\Project\\Viewshed_MT_clean\\exported_Data\\View_Rasters\" + vwshd + \".tif\"\n",
    "#     print(raster_out_path)\n",
    "#     arcpy.CopyRaster_management(\"outViewshed\", raster_out_path, \"8_BIT_UNSIGNED\")"
   ]
  },
  {
   "cell_type": "markdown",
   "metadata": {},
   "source": [
    "## Next big step: extracting elevation values (maxes) in a 360 view around image points. \n",
    "\n",
    "1. Viewshed raster to Polygon\n",
    "2. Create a minimum bounding circle on vectorized viewshed raster\n",
    "3. Generate points on perimeter of circle (min bounding region)\n",
    "4. Connect image.shp point to each of the points on circle perimeter creating a new polyline shapefile.\n",
    "5. Use vectorized viewshed raster to mask DEM (resulting in a viewshed shaped DEM with real elevation values)\n",
    "6. Extract the cell values from the clipped viewshed DEM with the Polylines. (HERE CURRENTLY!!)\n",
    "    * For each line store the largest DEM value and save values in a table\n",
    "7. Plot table"
   ]
  },
  {
   "cell_type": "code",
   "execution_count": 47,
   "metadata": {},
   "outputs": [
    {
     "name": "stdout",
     "output_type": "stream",
     "text": [
      "Saving & Updating: D:\\Fall_2022\\Programming\\Project\\Viewshed_MT_clean\\Viewshed_MT_clean.gdb\\Poly_outView1\n",
      "Saving & Updating: D:\\Fall_2022\\Programming\\Project\\Viewshed_MT_clean\\Viewshed_MT_clean.gdb\\Poly_outView2\n",
      "Saving & Updating: D:\\Fall_2022\\Programming\\Project\\Viewshed_MT_clean\\Viewshed_MT_clean.gdb\\Poly_outView3\n",
      "Saving & Updating: D:\\Fall_2022\\Programming\\Project\\Viewshed_MT_clean\\Viewshed_MT_clean.gdb\\Poly_outView4\n",
      "Saving & Updating: D:\\Fall_2022\\Programming\\Project\\Viewshed_MT_clean\\Viewshed_MT_clean.gdb\\Poly_outView5\n",
      "Saving & Updating: D:\\Fall_2022\\Programming\\Project\\Viewshed_MT_clean\\Viewshed_MT_clean.gdb\\Poly_outView8\n"
     ]
    }
   ],
   "source": [
    "################################################## Viewshed raster to Polygon ########################################\n",
    "##vectorizing resulting viewshed rasters\n",
    "\n",
    "#list of names of the viewshed tifs\n",
    "vwshd_tifs = [\"outViewshed1\", \"outViewshed2\", \"outViewshed3\", \"outViewshed4\", \"outViewshed5\", \"outViewshed6\"]\n",
    "#list of names to be used for vectorized viewsheds\n",
    "ras_to_polys = [\"\\Poly_outView1\", \"\\Poly_outView2\", \"\\Poly_outView3\", \"\\Poly_outView4\", \"\\Poly_outView5\", \"\\Poly_outView6\"]\n",
    "\n",
    "####### Looping over \"ras_to_polys\" to convert ALL viewsheds to polygons\n",
    "poly_vwshd_list = {}\n",
    "number = 0\n",
    "for tif, poly in zip(vwshd_tifs, ras_to_polys):\n",
    "    number += 1\n",
    "    #declaring location and name for vectorized viewsheds\n",
    "    path = \"D:\\Fall_2022\\Programming\\Project\\Viewshed_MT_clean\\Viewshed_MT_clean.gdb\" + poly\n",
    "    #will use these paths for the polygon viewsheds to update the viewsheds later\n",
    "    name = \"v\" + str(number)\n",
    "    poly_vwshd_list[name] = path\n",
    "    #converting rasters to polygons\n",
    "    arcpy.conversion.RasterToPolygon(tif, \n",
    "                                     path, \n",
    "                                     \"SIMPLIFY\", \n",
    "                                     \"Value\", \n",
    "                                     \"SINGLE_OUTER_PART\", \n",
    "                                     None)\n",
    "\n",
    "# #deleting polygons with gridcode = 0 (represents areas viewer cannot see)\n",
    "for v in poly_vwshd_list.values(): \n",
    "    with arcpy.da.UpdateCursor(v, ['*']) as cursor:\n",
    "        for row in cursor:\n",
    "            if row[3] == 0:\n",
    "                cursor.deleteRow()\n",
    "    print(\"Saving & Updating:\", v)"
   ]
  },
  {
   "cell_type": "code",
   "execution_count": 56,
   "metadata": {},
   "outputs": [],
   "source": [
    "########################### create a min bounding circle on vectorized viewshed raster #######################\n",
    "# creating list of names for minimum bounding circles\n",
    "path = \"D:\\Fall_2022\\Programming\\Project\\Viewshed_MT_clean\\Viewshed_MT_clean.gdb\"\n",
    "min_bound_names = []\n",
    "for number in range(len(ras_to_polys)): \n",
    "    circle_name = \"\\B_outView\" + str(number + 1)\n",
    "    min_bound_names.append(path + circle_name)\n",
    "\n",
    "# creating minimum bounding circle around viewshds\n",
    "for poly_vwshd, min_bound in zip(poly_vwshd_list.values(), min_bound_names):\n",
    "    arcpy.management.MinimumBoundingGeometry(poly_vwshd, \n",
    "                                         min_bound, \n",
    "                                         \"CIRCLE\", \n",
    "                                         \"ALL\")"
   ]
  },
  {
   "cell_type": "code",
   "execution_count": 57,
   "metadata": {},
   "outputs": [],
   "source": [
    "############################## Generate points on perimeter of circle (min bounding region) ######################\n",
    "# creating list of names for points on minimum bouding circles\n",
    "path = \"D:\\Fall_2022\\Programming\\Project\\Viewshed_MT_clean\\Viewshed_MT_clean.gdb\"\n",
    "pts_names = []\n",
    "for number in range(len(ras_to_polys)): \n",
    "    circle_name = \"\\Pts_View\" + str(number + 1)\n",
    "    pts_names.append(path + circle_name)\n",
    "\n",
    "    # creating pts on minimum bounding circle\n",
    "for circle, pts in zip(min_bound_names, pts_names):\n",
    "    arcpy.management.GeneratePointsAlongLines(circle, \n",
    "                                          pts, \n",
    "                                          \"PERCENTAGE\",  \n",
    "                                          Percentage=0.2, \n",
    "                                          Include_End_Points='END_POINTS')\n",
    "\n",
    "##takes apporx 1 min to execute"
   ]
  },
  {
   "cell_type": "code",
   "execution_count": 83,
   "metadata": {},
   "outputs": [],
   "source": [
    "#################### Connect image.shp point to each of the points on circle perimeter creating a new polyline shapefile ######\n",
    "##create a def to be called later that extract the coordinates for each image.shp\n",
    "def image_coords(path_to_image):\n",
    "    '''\n",
    "    Given the shapefile path you can extract the points coorndinates. \n",
    "    Returns a arcpy Point\n",
    "    '''\n",
    "    with arcpy.da.SearchCursor(path_to_image, ['*']) as cursor:\n",
    "        for row in cursor:\n",
    "            #assumption, shp is 1 point, thus only returning 1 point value, if shp with many pts provided will return last pt\n",
    "            cp = arcpy.Point(row[1][0], row[1][1])\n",
    "    return cp\n",
    "\n",
    "def creating_polylines(filepath, anchor_point, connection_points): \n",
    "    \"\"\"\n",
    "    creates lines from each coordinate (image<#>.shp) to the points plotted on the minimum bounding circle \n",
    "    created around the viewshed. \n",
    "    filepath: insert desired name for each polyline file created with entire filepath (to .gdb)\n",
    "    anchor_point: filepath to shapefile for each repective image's coordinates\n",
    "    connection_points: filepath to the points created on the minimum bounding circle\n",
    "    \"\"\"\n",
    "    # ##creating new file name and shapefile for polylines\n",
    "    path = \"D:\\Fall_2022\\Programming\\Project\\Viewshed_MT_clean\\Viewshed_MT_clean.gdb\"\n",
    "    new_fc = filepath\n",
    "    name = filepath[(len(path)+1):len(filepath)]\n",
    "    list_points = arcpy.Array([])\n",
    "    arcpy.management.CreateFeatureclass(path, name, 'POLYLINE')\n",
    "\n",
    "\n",
    "    ##Creating a line for each point on perimeter to corrsponding image (WORKS!)\n",
    "    #looping through perimeter points\n",
    "    with arcpy.da.SearchCursor(connection_points, ['*']) as cursor:\n",
    "        for row in cursor:\n",
    "            cp1 = image_coords(anchor_point) #pulling the same image point\n",
    "            cp2 = arcpy.Point(row[1][0], row[1][1])\n",
    "            list_points.append(cp2)\n",
    "            list_points.append(cp1)\n",
    "            #assignng spatial reference (should check to make sure its accurate)\n",
    "            spatial_reference = arcpy.SpatialReference(4326)\n",
    "            polyline = arcpy.Polyline(list_points, spatial_reference)\n",
    "            #inserting new line to new feature class\n",
    "            icur = arcpy.da.InsertCursor(new_fc, [\"SHAPE@\"])\n",
    "            icur.insertRow([polyline])\n",
    "            del icur\n",
    "\n",
    "##CURRENT issue: 'unknown coord ref system' for polylines"
   ]
  },
  {
   "cell_type": "code",
   "execution_count": 84,
   "metadata": {},
   "outputs": [
    {
     "name": "stdout",
     "output_type": "stream",
     "text": [
      "Creating: View_lines1\n",
      "Creating: View_lines2\n",
      "Creating: View_lines3\n",
      "Creating: View_lines4\n",
      "Creating: View_lines5\n",
      "Creating: View_lines6\n"
     ]
    }
   ],
   "source": [
    "#################### Connect image.shp point to each of the points on circle perimeter creating a new polyline shapefile ######\n",
    "\n",
    "# creating paths and names for new polyline files \n",
    "path = \"D:\\Fall_2022\\Programming\\Project\\Viewshed_MT_clean\\Viewshed_MT_clean.gdb\"\n",
    "polyline_names = []\n",
    "for number in range(len(ras_to_polys)): \n",
    "    line_name = \"\\View_lines\" + str(number + 1)\n",
    "    polyline_names.append(path + line_name)\n",
    "\n",
    "# polyline_names : recently declared above\n",
    "# pts_names : calling this already made list of minimum bounding circle pts\n",
    "# List_shp : calling this already made list of image locations \n",
    "\n",
    "#Running the function that'll create polylines for each image and corresponding viewshed points\n",
    "for polyline, image, pts, in zip(polyline_names, List_shp, pts_names):\n",
    "    print(\"Creating:\", polyline[(len(path) + 1):len(polyline)])\n",
    "    creating_polylines(polyline, image, pts)\n",
    "    \n",
    "#takes 1.5 mins to make lines when p = 0.2"
   ]
  },
  {
   "cell_type": "code",
   "execution_count": null,
   "metadata": {},
   "outputs": [],
   "source": []
  }
 ],
 "metadata": {
  "kernelspec": {
   "display_name": "ArcGISPro",
   "language": "Python",
   "name": "python3"
  },
  "language_info": {
   "file_extension": ".py",
   "name": "python",
   "version": "3"
  }
 },
 "nbformat": 4,
 "nbformat_minor": 2
}

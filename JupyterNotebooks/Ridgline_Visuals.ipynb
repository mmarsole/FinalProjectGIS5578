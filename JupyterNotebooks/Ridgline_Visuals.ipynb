{
 "cells": [
  {
   "cell_type": "markdown",
   "id": "31c5d8a8-50aa-41b1-9df4-068084f19841",
   "metadata": {},
   "source": [
    "## Visulization of Elevation Data\n",
    "\n",
    "Previously made a notebook in ArcPro that extracts the maximum elevation values for each images' view. Should match the visual ridgeline at each images' location (need to figure out a way to corroborate each ridgeline is accurate...)\n",
    "\n",
    "The visual output is displayed based on the premsis that something far away will apear smaller than something closer. So, have extracted the height of the landscape and the distance to each of the landscape's elevation. wherein I calulate the precieved ridgeline by: (Max elavtion/ distance to max eleavtion -elevation of the observer)\n",
    "\n",
    "... does the ridgeline improve with more or less degrees? Currently displaying 500 points between 0 and 360 should it be 1000?\n",
    "\n",
    "(This notebook was executed in LATIS)"
   ]
  },
  {
   "cell_type": "code",
   "execution_count": null,
   "id": "fd463764-2908-4900-a870-599cf84c96b8",
   "metadata": {},
   "outputs": [],
   "source": [
    "import pandas as pd\n",
    "import matplotlib.pyplot as plt\n",
    "import numpy as np"
   ]
  },
  {
   "cell_type": "markdown",
   "id": "fd2989e6-bf0f-4f48-84e5-08ddd35e971f",
   "metadata": {},
   "source": [
    "### Viewsheds geanerated from image 1-6 with 500 polylines"
   ]
  },
  {
   "cell_type": "code",
   "execution_count": null,
   "id": "23a39d0e-edd7-489e-bb01-e2910ae35cde",
   "metadata": {},
   "outputs": [],
   "source": [
    "#loading the distance calulations for the 501 lines (contain Max elevation and distances)\n",
    "image1_dist = pd.read_csv(\"Max_elevs/lines_Split_view1.csv\")\n",
    "image1_dist = image1_dist[[\"Degree\", \"gridcode\", \"LENGTH\"]]\n",
    "image2_dist = pd.read_csv(\"Max_elevs/lines_Split_view2.csv\")\n",
    "image2_dist = image2_dist[[\"Degree\",\"gridcode\", \"LENGTH\"]]\n",
    "image3_dist = pd.read_csv(\"Max_elevs/lines_Split_view3.csv\")\n",
    "image3_dist = image3_dist[[\"Degree\",\"gridcode\", \"LENGTH\"]]\n",
    "image4_dist = pd.read_csv(\"Max_elevs/lines_Split_view4.csv\")\n",
    "image4_dist = image4_dist[[\"Degree\", \"gridcode\",\"LENGTH\"]]\n",
    "image5_dist = pd.read_csv(\"Max_elevs/lines_Split_view5.csv\")\n",
    "image5_dist = image5_dist[[\"Degree\",\"gridcode\", \"LENGTH\"]]\n",
    "image6_dist = pd.read_csv(\"Max_elevs/lines_Split_view6.csv\")\n",
    "image6_dist = image6_dist[[\"Degree\",\"gridcode\", \"LENGTH\"]]"
   ]
  },
  {
   "cell_type": "code",
   "execution_count": null,
   "id": "eb362fc7-53c1-4a20-a4f6-29e24ca58140",
   "metadata": {},
   "outputs": [],
   "source": [
    "def Plotting_Ridgline(dataframe, observer_height): \n",
    "    \"\"\"\n",
    "    Inputs:\n",
    "    dataframe: need 3 columns, degree (delinates the x axis of the plot), gridcode: is the max elevation seen at each degree (the y axis of the plot in meters), \n",
    "                and LENGTH, the distance form the observer along each degree to the max elevation oberserved (measured in kilometers)\n",
    "    observer_height: the elevation in kilometers that the image was observed/taken at.\n",
    "    \n",
    "    Outputs:\n",
    "    plot: a plot for the ridgline that a viewer would see at each image's location (a 360 degree view)\n",
    "    \"\"\"\n",
    "    #create a new column where i divide elevation by distance (LENGTH) AND subtract the elevation height at the anchor point\n",
    "    dataframe[\"Ridgeline\"] = (((dataframe[\"gridcode\"]/1000)-observer_height)/dataframe[\"LENGTH\"])*0.0005\n",
    "\n",
    "    ##Plotting just elevation/length and degree... WORSE or better? IDK? \n",
    "    plt1 = plt.figure(figsize=(30,8))\n",
    "    plt.plot(dataframe[\"Degree\"], dataframe[\"Ridgeline\"])\n",
    "    plt.xlabel(\"Degree\")\n",
    "    plt.ylabel(\"Elevation divided by Distance\")\n",
    "    plt.show()\n",
    "\n",
    "    ##looks like my best results...I actually think I can visually match mountains when compared to Google earth view!!"
   ]
  },
  {
   "cell_type": "code",
   "execution_count": null,
   "id": "f0c20ef3-faa0-4bda-b14e-fdc9bd5e1a12",
   "metadata": {},
   "outputs": [],
   "source": [
    "Plotting_Ridgline(image1_dist, 2.25)"
   ]
  },
  {
   "cell_type": "code",
   "execution_count": null,
   "id": "a9066aa7-e8f5-480a-a140-104d0d5b5bec",
   "metadata": {},
   "outputs": [],
   "source": [
    "Plotting_Ridgline(image2_dist, 1.588427114)"
   ]
  },
  {
   "cell_type": "code",
   "execution_count": null,
   "id": "ff27830e-d4da-4780-8b11-82b2016dc942",
   "metadata": {},
   "outputs": [],
   "source": [
    "Plotting_Ridgline(image3_dist, 1.581527675)"
   ]
  },
  {
   "cell_type": "code",
   "execution_count": null,
   "id": "efc4fe70-4b90-4bda-9885-2d0dae5e28cf",
   "metadata": {},
   "outputs": [],
   "source": [
    "Plotting_Ridgline(image4_dist, 2.023487544)"
   ]
  },
  {
   "cell_type": "code",
   "execution_count": null,
   "id": "3ff3db42-a4bf-428a-895e-e13cfcd49018",
   "metadata": {},
   "outputs": [],
   "source": []
  },
  {
   "cell_type": "code",
   "execution_count": null,
   "id": "9e91d86e-6c0c-402c-812c-b9cdb2f7f978",
   "metadata": {},
   "outputs": [],
   "source": []
  }
 ],
 "metadata": {
  "kernelspec": {
   "display_name": "Python 3 (ipykernel)",
   "language": "python",
   "name": "python3"
  },
  "language_info": {
   "codemirror_mode": {
    "name": "ipython",
    "version": 3
   },
   "file_extension": ".py",
   "mimetype": "text/x-python",
   "name": "python",
   "nbconvert_exporter": "python",
   "pygments_lexer": "ipython3",
   "version": "3.9.7"
  }
 },
 "nbformat": 4,
 "nbformat_minor": 5
}
